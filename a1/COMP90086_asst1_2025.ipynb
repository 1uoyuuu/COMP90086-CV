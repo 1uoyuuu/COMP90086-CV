{
 "cells": [
  {
   "cell_type": "markdown",
   "metadata": {},
   "source": [
    "### The University of Melbourne, School of Computing and Information Systems\n",
    "# COMP90086 Computer Vision, 2025 Semester 2\n",
    "\n",
    "## Assignment 1"
   ]
  },
  {
   "cell_type": "markdown",
   "metadata": {},
   "source": [
    "**Student Name:**    `PLEASE ENTER YOUR NAME HERE`\n",
    "\n",
    "**Student ID:**     `PLEASE ENTER YOUR ID HERE`"
   ]
  },
  {
   "cell_type": "markdown",
   "metadata": {},
   "source": [
    "This iPython notebook is a template which you should use for your Assignment 1 submission. This file should be submitted at the **Assignment 1: Code** link on the LMS, along with any images needed to run your code.\n",
    "\n",
    "In addition to this file, you should submit a written report explaining your results at the **Assignment 1: Report** link on the LMS. Please see the assignment specification for details on what must be included in the report for each question.\n",
    "\n",
    "*Adding proper comments to your code is MANDATORY.*"
   ]
  },
  {
   "cell_type": "code",
   "execution_count": null,
   "metadata": {},
   "outputs": [],
   "source": [
    "import numpy as np\n",
    "import matplotlib.pyplot as plt\n",
    "\n",
    "# Draw wireframe cube from (x,y) points\n",
    "def draw_cube(pts):\n",
    "    \n",
    "    # plot points\n",
    "    plt.figure()\n",
    "    plt.plot(pts[:, 0], pts[:, 1], 'k.')\n",
    "    \n",
    "    # define edges\n",
    "    edges = np.array([\n",
    "        [0, 1], [2, 3], [0, 2], [1, 3],\n",
    "        [4, 5], [6, 7], [4, 6], [5, 7],\n",
    "        [0, 4], [1, 5], [2, 6], [3, 7]\n",
    "    ])\n",
    "\n",
    "    # plot edges\n",
    "    for edge in edges:\n",
    "        plt.plot(pts[edge, 0], pts[edge, 1], 'k-')  # plot lines between connected edges\n",
    "\n",
    "    # crop to sensor area (24 x 36 mm)\n",
    "    plt.axis('equal')\n",
    "    plt.xlim([-18, 18])\n",
    "    plt.ylim([-12, 12])\n",
    "    plt.show()"
   ]
  },
  {
   "cell_type": "markdown",
   "metadata": {},
   "source": [
    "### 1. Mapping between world and image coordinates"
   ]
  },
  {
   "cell_type": "code",
   "execution_count": null,
   "metadata": {},
   "outputs": [],
   "source": [
    "# corners of the cube in the image\n",
    "xy_image = np.array([[-8.333333, -5.555556],\n",
    "                     [8.333333, -5.555556],\n",
    "                     [-8.333333, 11.11111],\n",
    "                     [8.333333, 11.11111],\n",
    "                     [-6.25, -4.166667],\n",
    "                     [6.25, -4.166667],\n",
    "                     [-6.25, 8.333333],\n",
    "                     [6.25, 8.333333]])\n",
    "\n",
    "# draw the cube\n",
    "draw_cube(xy_image)"
   ]
  },
  {
   "cell_type": "markdown",
   "metadata": {},
   "source": [
    "### 2. Depth of field simulation"
   ]
  },
  {
   "cell_type": "code",
   "execution_count": null,
   "metadata": {},
   "outputs": [],
   "source": [
    "# Example image\n",
    "img = 'OWeek.jpg'\n",
    "z_world = 'OWeek-depth.png' # Z_world in mm\n",
    "f = 28 # focal length in mm\n",
    "\n",
    "# Example image\n",
    "img = 'OldQuad.jpg'\n",
    "z_world = 'OldQuad-depth.png' # Z_world in mm\n",
    "f = 24 # focal length in mm\n",
    "\n",
    "# sensor width/height in mm\n",
    "h_sensor = 24\n",
    "w_sensor = 36"
   ]
  }
 ],
 "metadata": {
  "kernelspec": {
   "display_name": "Python 3",
   "language": "python",
   "name": "python3"
  },
  "language_info": {
   "codemirror_mode": {
    "name": "ipython",
    "version": 3
   },
   "file_extension": ".py",
   "mimetype": "text/x-python",
   "name": "python",
   "nbconvert_exporter": "python",
   "pygments_lexer": "ipython3",
   "version": "3.9.5"
  }
 },
 "nbformat": 4,
 "nbformat_minor": 4
}
